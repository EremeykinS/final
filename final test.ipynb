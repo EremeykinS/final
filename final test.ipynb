{
 "cells": [
  {
   "cell_type": "code",
   "execution_count": 2,
   "metadata": {
    "collapsed": true
   },
   "outputs": [],
   "source": [
    "import pandas as pd\n",
    "import numpy as np\n",
    "from sklearn.cross_validation import train_test_split\n",
    "from sklearn import tree\n",
    "from sklearn.metrics import accuracy_score\n",
    "# from sklearn.multiclass import OneVsRestClassifier\n",
    "# from sklearn.preprocessing import normalize\n",
    "from sklearn.linear_model import LogisticRegression\n",
    "from sklearn.cross_validation import KFold\n",
    "from sklearn import grid_search\n",
    "from sklearn.ensemble import RandomForestClassifier\n",
    "%matplotlib inline"
   ]
  },
  {
   "cell_type": "code",
   "execution_count": 3,
   "metadata": {
    "collapsed": true
   },
   "outputs": [],
   "source": [
    "# считывание данных из файла\n",
    "data = pd.read_excel('/home/es/PycharmProjects/final/data/oil_names.xlsx', skiprows=1, index_col=0, na_values=['n.a.'])\n",
    "\n",
    "# Расчет показателей (по Шеремету)\n",
    "# вспомогательные показатели\n",
    "net_assets = data['ass_all'] - data['obl_long'] - data['current_obl'] + data['reven_futur']\n",
    "F_prime = data['fix_ass'] + data['ass_cur_deb']\n",
    "E_c = net_assets - F_prime\n",
    "C_d = data['obl_long']\n",
    "E_d = E_c + C_d\n",
    "C_kk = data['current_obl_loans'] + data['current_obl_contractor'] + data['obl_short']\n",
    "E_o = E_d + C_kk\n",
    "E_z = data['ass_cur_stock']\n",
    "dE_c = E_c - E_z\n",
    "dE_d = E_d - E_z\n",
    "dE_o = E_o - E_z\n",
    "\n",
    "# основные показатели\n",
    "data['dE_c'] = dE_c\n",
    "data['dE_d'] = dE_d\n",
    "data['dE_o'] = dE_o"
   ]
  },
  {
   "cell_type": "code",
   "execution_count": 4,
   "metadata": {
    "collapsed": false
   },
   "outputs": [
    {
     "name": "stderr",
     "output_type": "stream",
     "text": [
      "/home/es/anaconda3/lib/python3.5/site-packages/pandas/core/indexing.py:117: SettingWithCopyWarning: \n",
      "A value is trying to be set on a copy of a slice from a DataFrame\n",
      "\n",
      "See the caveats in the documentation: http://pandas.pydata.org/pandas-docs/stable/indexing.html#indexing-view-versus-copy\n",
      "  self._setitem_with_indexer(indexer, value)\n"
     ]
    }
   ],
   "source": [
    "# отнесение компании к одной из категорий по расчитанным показателям\n",
    "data['group'] = pd.Series(0, index=data.index)\n",
    "data['group'].loc[data[(dE_c<0) & (dE_d<0) & (dE_o<0)].index] = 2\n",
    "data['group'].loc[data[(dE_c<0) & (dE_d<0) & (dE_o>=0)].index] = 2\n",
    "data['group'].loc[data[(dE_c<0) & (dE_d>=0) & (dE_o>=0)].index] = 1\n",
    "data['group'].loc[data[(dE_c>=0) & (dE_d>=0) & (dE_o>=0)].index] = 1"
   ]
  },
  {
   "cell_type": "code",
   "execution_count": 5,
   "metadata": {
    "collapsed": false,
    "scrolled": true
   },
   "outputs": [],
   "source": [
    "# отсеивание ошибочных данных\n",
    "bad = (data['ass_all'] != data['passive']) | (data['obl_long'] < 0) | (data['current_obl'] < 0) | (data['reven_futur'] < 0) | (data['fix_ass'] < 0) | (data['ass_cur_deb'] < 0) | (data['current_obl_loans'] < 0) | (data['current_obl_contractor'] < 0) | (data['obl_short'] < 0) | (data['ass_cur_stock'] < 0) | (data['revenue'] <= 0)\n",
    "data = data.drop(data[bad].index)\n",
    "# удаление неинформативных признаков\n",
    "data = data.drop('nc_ass_rev', 1)\n",
    "data = data.drop('oth_oper', 1)"
   ]
  },
  {
   "cell_type": "code",
   "execution_count": 6,
   "metadata": {
    "collapsed": false,
    "scrolled": true
   },
   "outputs": [],
   "source": [
    "# подготовка данных\n",
    "# названия столбцов ОПУ\n",
    "pl_statement = ['revenue', 'net_cost', 'gross_profit', 'expen_realis', 'expen_adm', 'oper_profit', 'finoper_oth_inc', 'int_rec', 'int_pay', 'fin_oth_inc', 'exp_finoper_oth', 'prof_b_tax', 'tax_on_prof', 'unch_tax', 'def_tax_liab', 'def_tax_ass', 'other', 'prof_a_tax', 'prof_y']\n",
    "X = data[pl_statement]\n",
    "y = data['group']\n",
    "\n",
    "classes = y.unique()\n",
    "classes.sort(axis=0)\n",
    "# разделение выборки на обучающую и проверочную\n",
    "X_train, X_test, y_train, y_test = train_test_split(X, y, test_size=0.2, random_state=1580)"
   ]
  },
  {
   "cell_type": "code",
   "execution_count": null,
   "metadata": {
    "collapsed": false
   },
   "outputs": [],
   "source": [
    "# X = X.replace(np.nan, 1).replace([np.inf], 10*max(X['feature_3'])).replace([-np.inf], -10*max(X['feature_3']))\n",
    "# for col in X.columns:\n",
    "#     mv=X[col][abs(X[col])!=np.inf].max()\n",
    "#     X[col] = X[col].replace(np.nan, 1).replace([np.inf], 10*mv).replace([-np.inf], -10*mv)\n",
    "\n",
    "# X = pd.DataFrame(normalize(X, norm='l1', axis=0), index=X.index, columns=X.columns)"
   ]
  },
  {
   "cell_type": "code",
   "execution_count": 111,
   "metadata": {
    "collapsed": false
   },
   "outputs": [],
   "source": [
    "new_features = []\n",
    "new_features.append(data['gross_profit']/data['revenue'])#+\n",
    "new_features.append(data['oper_profit']/data['revenue'])#+\n",
    "new_features.append(data['net_cost']/data['oper_profit'])#+\n",
    "# new_features.append(data['exp_finoper_oth']/data['net_cost'])\n",
    "# new_features.append(data['fin_oth_inc']/data['oper_profit'])\n",
    "# new_features.append(data['int_pay']/data['int_rec'])\n",
    "new_features = pd.concat(new_features, axis=1)\n",
    "new_features.columns = ['feature_'+str(i) for i in range(1,len(new_features.columns)+1)]"
   ]
  },
  {
   "cell_type": "code",
   "execution_count": 112,
   "metadata": {
    "collapsed": true
   },
   "outputs": [],
   "source": [
    "# X = new_features\n",
    "# # разделение выборки на обучающую и проверочную\n",
    "# X_train, X_test, y_train, y_test = train_test_split(X, y, test_size=0.2, random_state=1580)\n",
    "# for col in X.columns:\n",
    "#     mv=X[col][abs(X[col])!=np.inf].max()\n",
    "#     X[col] = X[col].replace(np.nan, 1).replace([np.inf], 10*mv).replace([-np.inf], -10*mv)"
   ]
  },
  {
   "cell_type": "code",
   "execution_count": 113,
   "metadata": {
    "collapsed": false,
    "scrolled": true
   },
   "outputs": [
    {
     "name": "stdout",
     "output_type": "stream",
     "text": [
      "accuracy (train): 0.814024390244\n",
      "accuracy (test):  0.682926829268\n",
      "accuracy (train, class 1):  0.0\n",
      "accuracy (train, class 2):  1.0\n",
      "accuracy (test, class 1):  0.0\n",
      "accuracy (test, class 2):  1.0\n"
     ]
    },
    {
     "name": "stderr",
     "output_type": "stream",
     "text": [
      "/home/es/anaconda3/lib/python3.5/site-packages/pandas/core/frame.py:1997: UserWarning: Boolean Series key will be reindexed to match DataFrame index.\n",
      "  \"DataFrame index.\", UserWarning)\n"
     ]
    }
   ],
   "source": [
    "grid = {'C': np.arange(2, 16.0, 0.25)}\n",
    "cv = KFold(y_train.size, n_folds=5, shuffle=True, random_state=1580)\n",
    "clf = LogisticRegression(random_state=1580)\n",
    "gs = grid_search.GridSearchCV(clf, grid, scoring='accuracy', cv=cv, n_jobs=2)\n",
    "gs.fit(X_train, y_train)\n",
    "lr = gs.best_estimator_\n",
    "# вычисление качества предсказания на обучающей выборке\n",
    "print('accuracy (train):', accuracy_score(y_train, lr.predict(X_train)))\n",
    "# предсказание\n",
    "y_pred = lr.predict(X_test)\n",
    "# вычисление качества предсказания на проверочной выборке\n",
    "print('accuracy (test): ', accuracy_score(y_test, y_pred))\n",
    "# вычисление качества отдельно для каждого класса\n",
    "y_train_pred1 = lr.predict(X_train[data['group']==1])\n",
    "y_train_pred2 = lr.predict(X_train[data['group']==2])\n",
    "y_test_pred1 = lr.predict(X_test[data['group']==1])\n",
    "y_test_pred2 = lr.predict(X_test[data['group']==2])\n",
    "\n",
    "print('accuracy (train, class 1): ', accuracy_score(y_train[y_train==1], y_train_pred1))\n",
    "print('accuracy (train, class 2): ', accuracy_score(y_train[y_train==2], y_train_pred2))\n",
    "print('accuracy (test, class 1): ', accuracy_score(y_test[y_test==1], y_test_pred1))\n",
    "print('accuracy (test, class 2): ', accuracy_score(y_test[y_test==2], y_test_pred2))"
   ]
  },
  {
   "cell_type": "code",
   "execution_count": 114,
   "metadata": {
    "collapsed": true
   },
   "outputs": [],
   "source": [
    "def wac(est, X, y):\n",
    "    w1 = 1\n",
    "    w2 = 1\n",
    "    ac1 = accuracy_score(y[y==1], est.predict(X[y==1]))\n",
    "    ac2 = accuracy_score(y[y==2], est.predict(X[y==2]))\n",
    "    return (ac1**w1) * (ac2**w2)"
   ]
  },
  {
   "cell_type": "code",
   "execution_count": 122,
   "metadata": {
    "collapsed": false
   },
   "outputs": [
    {
     "data": {
      "text/plain": [
       "{'max_depth': 2, 'max_features': 1, 'min_samples_leaf': 10}"
      ]
     },
     "execution_count": 122,
     "metadata": {},
     "output_type": "execute_result"
    }
   ],
   "source": [
    "grid = {'max_features': np.arange(1, len(X.columns), 1), 'max_depth':np.arange(1, 4, 1), 'min_samples_leaf':np.arange(1, 24, 3)}\n",
    "cv = KFold(y_train.size, n_folds=5, shuffle=True, random_state=1580)\n",
    "# создание дерева\n",
    "clf = tree.DecisionTreeClassifier(random_state=1580, criterion='entropy', class_weight='balanced')\n",
    "gs = grid_search.GridSearchCV(clf, grid, scoring='accuracy', cv=cv, n_jobs=2)\n",
    "gs.fit(X_train, y_train)\n",
    "\n",
    "gs.best_params_"
   ]
  },
  {
   "cell_type": "code",
   "execution_count": 123,
   "metadata": {
    "collapsed": false
   },
   "outputs": [
    {
     "name": "stdout",
     "output_type": "stream",
     "text": [
      "accuracy (train): 0.603658536585\n",
      "accuracy (test):  0.585365853659\n",
      "accuracy (train, class 1):  0.737704918033\n",
      "accuracy (train, class 2):  0.573033707865\n",
      "accuracy (test, class 1):  0.653846153846\n",
      "accuracy (test, class 2):  0.553571428571\n"
     ]
    },
    {
     "name": "stderr",
     "output_type": "stream",
     "text": [
      "/home/es/anaconda3/lib/python3.5/site-packages/pandas/core/frame.py:1997: UserWarning: Boolean Series key will be reindexed to match DataFrame index.\n",
      "  \"DataFrame index.\", UserWarning)\n"
     ]
    }
   ],
   "source": [
    "tr = gs.best_estimator_\n",
    "# вычисление качества предсказания на обучающей выборке\n",
    "print('accuracy (train):', accuracy_score(y_train, tr.predict(X_train)))\n",
    "# предсказание с помощью обученного дерева\n",
    "y_pred = tr.predict(X_test)\n",
    "# вычисление качества предсказания на проверочной выборке\n",
    "print('accuracy (test): ', accuracy_score(y_test, y_pred))\n",
    "y_train_pred1 = tr.predict(X_train[data['group']==1])\n",
    "y_train_pred2 = tr.predict(X_train[data['group']==2])\n",
    "y_test_pred1 = tr.predict(X_test[data['group']==1])\n",
    "y_test_pred2 = tr.predict(X_test[data['group']==2])\n",
    "\n",
    "print('accuracy (train, class 1): ', accuracy_score(y_train[y_train==1], y_train_pred1))\n",
    "print('accuracy (train, class 2): ', accuracy_score(y_train[y_train==2], y_train_pred2))\n",
    "print('accuracy (test, class 1): ', accuracy_score(y_test[y_test==1], y_test_pred1))\n",
    "print('accuracy (test, class 2): ', accuracy_score(y_test[y_test==2], y_test_pred2))"
   ]
  },
  {
   "cell_type": "code",
   "execution_count": null,
   "metadata": {
    "collapsed": false
   },
   "outputs": [],
   "source": [
    "grid = {'n_estimators': np.hstack([np.arange(2, 20, 1), np.arange(20, 200, 10), np.arange(200, 2000, 100)]), 'max_features': np.arange(1, len(X.columns), 1), 'max_depth':np.arange(1, 10, 1), 'min_samples_leaf':np.arange(1, 24, 3)}\n",
    "cv = KFold(y_train.size, n_folds=5, shuffle=True, random_state=1580)\n",
    "# создание леса\n",
    "clf = RandomForestClassifier(random_state=1580, criterion='entropy', class_weight='balanced')\n",
    "gs = grid_search.GridSearchCV(clf, grid, scoring='accuracy', cv=cv, n_jobs=2)\n",
    "gs.fit(X_train, y_train)\n",
    "\n",
    "gs.best_params_"
   ]
  },
  {
   "cell_type": "code",
   "execution_count": 16,
   "metadata": {
    "collapsed": false
   },
   "outputs": [
    {
     "data": {
      "text/plain": [
       "{'max_depth': 6,\n",
       " 'max_features': 11,\n",
       " 'min_samples_leaf': 3,\n",
       " 'n_estimators': 160}"
      ]
     },
     "execution_count": 16,
     "metadata": {},
     "output_type": "execute_result"
    }
   ],
   "source": [
    "grid = {'n_estimators': np.hstack([np.arange(2, 20, 2), np.arange(20, 200, 20)]), 'max_features': np.arange(1, len(X.columns), 5), 'max_depth':np.arange(2, 10, 2), 'min_samples_leaf':np.arange(3, 26, 3)}\n",
    "cv = KFold(y_train.size, n_folds=5, shuffle=True, random_state=1580)\n",
    "# создание леса\n",
    "clf = RandomForestClassifier(random_state=1580, criterion='entropy', class_weight='balanced')\n",
    "gs = grid_search.GridSearchCV(clf, grid, scoring='accuracy', cv=cv, n_jobs=2)\n",
    "gs.fit(X_train, y_train)\n",
    "\n",
    "gs.best_params_"
   ]
  },
  {
   "cell_type": "code",
   "execution_count": 17,
   "metadata": {
    "collapsed": false
   },
   "outputs": [
    {
     "data": {
      "text/plain": [
       "{'max_depth': 6,\n",
       " 'max_features': 11,\n",
       " 'min_samples_leaf': 3,\n",
       " 'n_estimators': 160}"
      ]
     },
     "execution_count": 17,
     "metadata": {},
     "output_type": "execute_result"
    }
   ],
   "source": [
    "grid = {'n_estimators': np.hstack([np.arange(120, 200, 20), np.arange(200, 1400, 150)]), 'max_features': np.arange(1, len(X.columns), 5), 'max_depth':np.arange(2, 10, 2), 'min_samples_leaf':np.arange(3, 26, 3)}\n",
    "cv = KFold(y_train.size, n_folds=5, shuffle=True, random_state=1580)\n",
    "# создание леса\n",
    "clf = RandomForestClassifier(random_state=1580, criterion='entropy', class_weight='balanced')\n",
    "gs = grid_search.GridSearchCV(clf, grid, scoring='accuracy', cv=cv, n_jobs=2)\n",
    "gs.fit(X_train, y_train)\n",
    "\n",
    "gs.best_params_"
   ]
  },
  {
   "cell_type": "code",
   "execution_count": null,
   "metadata": {
    "collapsed": true
   },
   "outputs": [],
   "source": []
  }
 ],
 "metadata": {
  "kernelspec": {
   "display_name": "Python 3",
   "language": "python",
   "name": "python3"
  },
  "language_info": {
   "codemirror_mode": {
    "name": "ipython",
    "version": 3
   },
   "file_extension": ".py",
   "mimetype": "text/x-python",
   "name": "python",
   "nbconvert_exporter": "python",
   "pygments_lexer": "ipython3",
   "version": "3.5.1"
  }
 },
 "nbformat": 4,
 "nbformat_minor": 0
}
