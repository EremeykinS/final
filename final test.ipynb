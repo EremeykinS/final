{
 "cells": [
  {
   "cell_type": "code",
   "execution_count": 1,
   "metadata": {
    "collapsed": true
   },
   "outputs": [],
   "source": [
    "import pandas as pd\n",
    "import numpy as np\n",
    "from sklearn.cross_validation import train_test_split\n",
    "from sklearn import tree\n",
    "from sklearn.metrics import accuracy_score\n",
    "from sklearn.multiclass import OneVsRestClassifier\n",
    "from sklearn.preprocessing import normalize\n",
    "%matplotlib inline"
   ]
  },
  {
   "cell_type": "code",
   "execution_count": 2,
   "metadata": {
    "collapsed": true
   },
   "outputs": [],
   "source": [
    "# считывание данных из файла\n",
    "data = pd.read_excel('/home/es/PycharmProjects/final/data/oil_names.xlsx', skiprows=1, index_col=0, na_values=['n.a.'])\n",
    "\n",
    "# Расчет показателей (по Шеремету)\n",
    "# вспомогательные показатели\n",
    "net_assets = data['ass_all'] - data['obl_long'] - data['current_obl'] + data['reven_futur']\n",
    "F_prime = data['fix_ass'] + data['ass_cur_deb']\n",
    "E_c = net_assets - F_prime\n",
    "C_d = data['obl_long']\n",
    "E_d = E_c + C_d\n",
    "C_kk = data['current_obl_loans'] + data['current_obl_contractor'] + data['obl_short']\n",
    "E_o = E_d + C_kk\n",
    "E_z = data['ass_cur_stock']\n",
    "dE_c = E_c - E_z\n",
    "dE_d = E_d - E_z\n",
    "dE_o = E_o - E_z\n",
    "\n",
    "# основные показатели\n",
    "data['dE_c'] = dE_c\n",
    "data['dE_d'] = dE_d\n",
    "data['dE_o'] = dE_o"
   ]
  },
  {
   "cell_type": "code",
   "execution_count": 3,
   "metadata": {
    "collapsed": false
   },
   "outputs": [
    {
     "name": "stderr",
     "output_type": "stream",
     "text": [
      "/home/es/anaconda3/lib/python3.5/site-packages/pandas/core/indexing.py:117: SettingWithCopyWarning: \n",
      "A value is trying to be set on a copy of a slice from a DataFrame\n",
      "\n",
      "See the caveats in the documentation: http://pandas.pydata.org/pandas-docs/stable/indexing.html#indexing-view-versus-copy\n",
      "  self._setitem_with_indexer(indexer, value)\n"
     ]
    }
   ],
   "source": [
    "# отнесение компании к одной из категорий по расчитанным показателям\n",
    "data['group'] = pd.Series(0, index=data.index)\n",
    "data['group'].loc[data[(dE_c<0) & (dE_d<0) & (dE_o<0)].index] = 2\n",
    "data['group'].loc[data[(dE_c<0) & (dE_d<0) & (dE_o>=0)].index] = 2\n",
    "data['group'].loc[data[(dE_c<0) & (dE_d>=0) & (dE_o>=0)].index] = 1\n",
    "data['group'].loc[data[(dE_c>=0) & (dE_d>=0) & (dE_o>=0)].index] = 1"
   ]
  },
  {
   "cell_type": "code",
   "execution_count": 4,
   "metadata": {
    "collapsed": false,
    "scrolled": true
   },
   "outputs": [],
   "source": [
    "# отсеивание ошибочных данных\n",
    "bad = (data['ass_all'] != data['passive']) | (data['obl_long'] < 0) | (data['current_obl'] < 0) | (data['reven_futur'] < 0) | (data['fix_ass'] < 0) | (data['ass_cur_deb'] < 0) | (data['current_obl_loans'] < 0) | (data['current_obl_contractor'] < 0) | (data['obl_short'] < 0) | (data['ass_cur_stock'] < 0) | (data['revenue'] <= 0)\n",
    "data = data.drop(data[bad].index)\n",
    "# удаление неинформативных признаков\n",
    "data = data.drop('nc_ass_rev', 1)\n",
    "data = data.drop('oth_oper', 1)"
   ]
  },
  {
   "cell_type": "code",
   "execution_count": 5,
   "metadata": {
    "collapsed": false,
    "scrolled": true
   },
   "outputs": [],
   "source": [
    "# подготовка данных\n",
    "new_features = []\n",
    "new_features.append(data['gross_profit']/data['revenue'])\n",
    "new_features.append(data['oper_profit']/data['revenue'])\n",
    "new_features.append(data['net_cost']/data['oper_profit'])\n",
    "new_features.append(data['int_pay']/data['int_rec'])\n",
    "new_f = pd.concat(new_features, axis=1)\n",
    "new_f.columns = ['feature_'+str(i) for i in range(1,len(new_features)+1)]\n",
    "# new_features = pd.concat(new_features, axis=1)\n",
    "# названия столбцов ОПУ\n",
    "pl_statement = ['revenue', 'net_cost', 'gross_profit', 'expen_realis', 'expen_adm', 'oper_profit', 'finoper_oth_inc', 'int_rec', 'int_pay', 'fin_oth_inc', 'exp_finoper_oth', 'prof_b_tax', 'tax_on_prof', 'unch_tax', 'def_tax_liab', 'def_tax_ass', 'other', 'prof_a_tax', 'prof_y']\n",
    "X = data[pl_statement]\n",
    "y = data['group']\n",
    "X = pd.concat([X,new_f], axis=1)\n",
    "classes = y.unique()\n",
    "classes.sort(axis=0)\n",
    "# разделение выборки на обучающую и проверочную\n",
    "X_train, X_test, y_train, y_test = train_test_split(X, y, test_size=0.2, random_state=1580)"
   ]
  },
  {
   "cell_type": "code",
   "execution_count": 6,
   "metadata": {
    "collapsed": false
   },
   "outputs": [],
   "source": [
    "# X = X.replace(np.nan, 1).replace([np.inf], 10*max(X['feature_3'])).replace([-np.inf], -10*max(X['feature_3']))\n",
    "for col in X.columns:\n",
    "    mv=X[col][abs(X[col])!=np.inf].max()\n",
    "    X[col] = X[col].replace(np.nan, 1).replace([np.inf], 10*mv).replace([-np.inf], -10*mv)\n",
    "\n",
    "X = pd.DataFrame(normalize(X, norm='l1', axis=0), index=X.index, columns=X.columns)"
   ]
  },
  {
   "cell_type": "code",
   "execution_count": null,
   "metadata": {
    "collapsed": false
   },
   "outputs": [],
   "source": [
    "# rebalancing\n",
    "# mm = min([len(y_train[y_train==i]) for i in classes])\n",
    "# X_train_b = pd.concat([X_train[y_train==i].head(mm) for i in classes])\n",
    "# y_train_b = pd.concat([y_train[y_train==i].head(mm) for i in classes])"
   ]
  },
  {
   "cell_type": "code",
   "execution_count": null,
   "metadata": {
    "collapsed": false
   },
   "outputs": [],
   "source": [
    "# from sklearn.linear_model import LogisticRegression\n",
    "# создание и обучение дерева\n",
    "# X_train, y_train = X_train_b, y_train_b\n",
    "clf = tree.DecisionTreeClassifier(random_state=1580, criterion='entropy', max_features=11, max_depth=3, min_samples_leaf=10)\n",
    "clf.fit(X_train, y_train)\n",
    "# вычисление качества предсказания на обучающей выборке\n",
    "print('accuracy (train):', accuracy_score(y_train, clf.predict(X_train)))\n",
    "# предсказание с помощью обученного дерева\n",
    "y_pred = clf.predict(X_test)\n",
    "# вычисление качества предсказания на проверочной выборке\n",
    "print('accuracy (test): ', accuracy_score(y_test, y_pred))\n"
   ]
  },
  {
   "cell_type": "code",
   "execution_count": null,
   "metadata": {
    "collapsed": false
   },
   "outputs": [],
   "source": [
    "from sklearn.externals.six import StringIO\n",
    "import pydotplus\n",
    "dot_data = StringIO()\n",
    "from IPython.display import Image\n",
    "dot_data = StringIO()\n",
    "tree.export_graphviz(clf, out_file=dot_data, feature_names=list(X_train.columns), class_names=['#'+str(cl) for cl in classes], filled=True, rounded=True, special_characters=True)  \n",
    "graphs = pydotplus.graph_from_dot_data(dot_data.getvalue())\n",
    "Image(graphs.create_png())"
   ]
  },
  {
   "cell_type": "code",
   "execution_count": 7,
   "metadata": {
    "collapsed": false,
    "scrolled": true
   },
   "outputs": [
    {
     "name": "stdout",
     "output_type": "stream",
     "text": [
      "0.130854646372\n",
      "0.149090803145\n",
      "0.0985608598001\n",
      "0.150217424744\n",
      "0.0904741894323\n",
      "0.141344916996\n",
      "0.246512052341\n",
      "0.558514602653\n",
      "0.102952098979\n",
      "0.737672225612\n",
      "0.609559070988\n",
      "0.422953501882\n",
      "0.481593835524\n",
      "0.150243527736\n",
      "0.202211513211\n",
      "0.382119086441\n",
      "0.162005288039\n",
      "0.422802101065\n",
      "0.410955306584\n",
      "0.00334770433925\n",
      "0.000119823885234\n",
      "0.119692508265\n",
      "0.0155967833069\n"
     ]
    }
   ],
   "source": [
    "for col in X.columns:\n",
    "    print(max(X[col]))"
   ]
  },
  {
   "cell_type": "code",
   "execution_count": null,
   "metadata": {
    "collapsed": true
   },
   "outputs": [],
   "source": []
  }
 ],
 "metadata": {
  "kernelspec": {
   "display_name": "Python 3",
   "language": "python",
   "name": "python3"
  },
  "language_info": {
   "codemirror_mode": {
    "name": "ipython",
    "version": 3
   },
   "file_extension": ".py",
   "mimetype": "text/x-python",
   "name": "python",
   "nbconvert_exporter": "python",
   "pygments_lexer": "ipython3",
   "version": "3.5.1"
  }
 },
 "nbformat": 4,
 "nbformat_minor": 0
}
